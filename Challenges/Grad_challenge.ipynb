{
 "cells": [
  {
   "cell_type": "code",
   "execution_count": 1,
   "id": "ca7996ea-27d1-4c56-a446-2b220789168b",
   "metadata": {},
   "outputs": [
    {
     "name": "stdout",
     "output_type": "stream",
     "text": [
      "Collecting geopandas\n",
      "  Downloading geopandas-0.13.2-py3-none-any.whl (1.1 MB)\n",
      "\u001b[K     |████████████████████████████████| 1.1 MB 1.9 MB/s eta 0:00:01\n",
      "\u001b[?25hRequirement already satisfied: packaging in /opt/anaconda3/lib/python3.8/site-packages (from geopandas) (20.9)\n",
      "Collecting pyproj>=3.0.1\n",
      "  Downloading pyproj-3.5.0-cp38-cp38-macosx_10_9_x86_64.whl (8.5 MB)\n",
      "\u001b[K     |████████████████████████████████| 8.5 MB 19.5 MB/s eta 0:00:01\n",
      "\u001b[?25hCollecting fiona>=1.8.19\n",
      "  Downloading Fiona-1.9.4.post1-cp38-cp38-macosx_10_15_x86_64.whl (18.6 MB)\n",
      "\u001b[K     |████████████████████████████████| 18.6 MB 74 kB/s eta 0:00:013\n",
      "\u001b[?25hCollecting shapely>=1.7.1\n",
      "  Downloading shapely-2.0.1-cp38-cp38-macosx_10_9_x86_64.whl (1.4 MB)\n",
      "\u001b[K     |████████████████████████████████| 1.4 MB 10.9 MB/s eta 0:00:01\n",
      "\u001b[?25hRequirement already satisfied: pandas>=1.1.0 in /opt/anaconda3/lib/python3.8/site-packages (from geopandas) (1.2.5)\n",
      "Requirement already satisfied: certifi in /opt/anaconda3/lib/python3.8/site-packages (from fiona>=1.8.19->geopandas) (2021.5.30)\n",
      "Requirement already satisfied: six in /opt/anaconda3/lib/python3.8/site-packages (from fiona>=1.8.19->geopandas) (1.16.0)\n",
      "Collecting cligj>=0.5\n",
      "  Downloading cligj-0.7.2-py3-none-any.whl (7.1 kB)\n",
      "Collecting click-plugins>=1.0\n",
      "  Downloading click_plugins-1.1.1-py2.py3-none-any.whl (7.5 kB)\n",
      "Requirement already satisfied: importlib-metadata in /opt/anaconda3/lib/python3.8/site-packages (from fiona>=1.8.19->geopandas) (3.10.0)\n",
      "Requirement already satisfied: click~=8.0 in /opt/anaconda3/lib/python3.8/site-packages (from fiona>=1.8.19->geopandas) (8.0.1)\n",
      "Requirement already satisfied: attrs>=19.2.0 in /opt/anaconda3/lib/python3.8/site-packages (from fiona>=1.8.19->geopandas) (21.2.0)\n",
      "Requirement already satisfied: python-dateutil>=2.7.3 in /opt/anaconda3/lib/python3.8/site-packages (from pandas>=1.1.0->geopandas) (2.8.1)\n",
      "Requirement already satisfied: pytz>=2017.3 in /opt/anaconda3/lib/python3.8/site-packages (from pandas>=1.1.0->geopandas) (2021.1)\n",
      "Requirement already satisfied: numpy>=1.16.5 in /opt/anaconda3/lib/python3.8/site-packages (from pandas>=1.1.0->geopandas) (1.20.2)\n",
      "Requirement already satisfied: zipp>=0.5 in /opt/anaconda3/lib/python3.8/site-packages (from importlib-metadata->fiona>=1.8.19->geopandas) (3.4.1)\n",
      "Requirement already satisfied: pyparsing>=2.0.2 in /opt/anaconda3/lib/python3.8/site-packages (from packaging->geopandas) (2.4.7)\n",
      "Installing collected packages: cligj, click-plugins, shapely, pyproj, fiona, geopandas\n",
      "Successfully installed click-plugins-1.1.1 cligj-0.7.2 fiona-1.9.4.post1 geopandas-0.13.2 pyproj-3.5.0 shapely-2.0.1\n"
     ]
    }
   ],
   "source": [
    "!pip3 install geopandas"
   ]
  },
  {
   "cell_type": "code",
   "execution_count": 26,
   "id": "abd06dcf-5be9-4103-9b87-e1368ae58112",
   "metadata": {},
   "outputs": [
    {
     "name": "stdout",
     "output_type": "stream",
     "text": [
      "Requirement already satisfied: shapely in /opt/anaconda3/lib/python3.8/site-packages (2.0.1)\n",
      "Requirement already satisfied: numpy>=1.14 in /opt/anaconda3/lib/python3.8/site-packages (from shapely) (1.20.2)\n"
     ]
    }
   ],
   "source": [
    "!pip3 install shapely"
   ]
  },
  {
   "cell_type": "code",
   "execution_count": 28,
   "id": "99715193-b6e0-4213-9318-d4cc55af10a3",
   "metadata": {},
   "outputs": [],
   "source": [
    "import geopandas as gpd\n",
    "from shapely.geometry import Polygon"
   ]
  },
  {
   "cell_type": "code",
   "execution_count": 51,
   "id": "2622f579-05f2-4eea-af1b-177dabaf5f35",
   "metadata": {},
   "outputs": [],
   "source": [
    "gdf = gpd.read_file(\"grad-challenge.geojson\")"
   ]
  },
  {
   "cell_type": "code",
   "execution_count": 68,
   "id": "7ff03028-b973-440b-930d-f13197c96a7a",
   "metadata": {},
   "outputs": [],
   "source": [
    "polygons_gdf = gdf[gdf['geometry'].geom_type == 'Polygon']"
   ]
  },
  {
   "cell_type": "code",
   "execution_count": 73,
   "id": "6a77ba14-9fe2-49ec-af67-97488c25e9d3",
   "metadata": {},
   "outputs": [],
   "source": [
    "specified_polygon = polygons_gdf['geometry'][2]"
   ]
  },
  {
   "cell_type": "code",
   "execution_count": 75,
   "id": "45c0cab9-128b-4409-a7f2-6ac6e6ba496c",
   "metadata": {},
   "outputs": [],
   "source": [
    "specified_polygon_coor = list(specified_polygon.exterior.coords)"
   ]
  },
  {
   "cell_type": "code",
   "execution_count": 77,
   "id": "39a29ac1-0b30-4bb3-85b7-76403743d8a9",
   "metadata": {},
   "outputs": [],
   "source": [
    "polygon_final = Polygon(specified_polygon_coor)"
   ]
  },
  {
   "cell_type": "code",
   "execution_count": 96,
   "id": "230bfee6-4a39-4a24-9b2c-ea5ec37e53c7",
   "metadata": {},
   "outputs": [
    {
     "data": {
      "image/png": "[encoded data removed]",
      "text/plain": [
       "<Figure size 576x576 with 1 Axes>"
      ]
     },
     "metadata": {
      "needs_background": "light"
     },
     "output_type": "display_data"
    }
   ],
   "source": [
    "import matplotlib.pyplot as plt\n",
    "fig, ax = plt.subplots(figsize=(8, 8))\n",
    "\n",
    "# Iterate through each feature in the GeoDataFrame\n",
    "for index, feature in gdf.iterrows():\n",
    "    geometry = feature['geometry']\n",
    "    \n",
    "    # Check if the feature's geometry is a Polygon and not the specified Polygon\n",
    "    if not (geometry.geom_type == 'Polygon' and geometry.equals(specified_polygon)):\n",
    "         gdf.iloc[[index]].plot(ax=ax, color='blue')\n",
    "        # Plot the feature\n",
    "   \n",
    "\n",
    "# Plot the specified Polygon separately in a different color\n",
    "x, y = specified_polygon.exterior.xy\n",
    "ax.plot(x, y, color='red', alpha=0.5)\n",
    "plt.show()"
   ]
  }
 ],
 "metadata": {
  "kernelspec": {
   "display_name": "Python 3",
   "language": "python",
   "name": "python3"
  },
  "language_info": {
   "codemirror_mode": {
    "name": "ipython",
    "version": 3
   },
   "file_extension": ".py",
   "mimetype": "text/x-python",
   "name": "python",
   "nbconvert_exporter": "python",
   "pygments_lexer": "ipython3",
   "version": "3.8.10"
  }
 },
 "nbformat": 4,
 "nbformat_minor": 5
}
